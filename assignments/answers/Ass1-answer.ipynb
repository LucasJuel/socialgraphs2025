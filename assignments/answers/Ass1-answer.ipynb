{
 "cells": [
  {
   "cell_type": "markdown",
   "id": "f71da121",
   "metadata": {},
   "source": [
    "### HUSK AT KIGGE HER: https://github.com/suneman/socialgraphs2025/wiki/Assignments\n",
    "\n",
    "Denne fortæller at vi skal repeat the questions, når iv svarer på dem.\n",
    "\n",
    "Ikke lav notebooken for lang.\n",
    "\n",
    "Læs spørgsmålene forsigtig, og svar på alle sub-spørgsmål.\n",
    "\n",
    "Split svarene op i forskellige kode sektioner.\n",
    "\n",
    "Hold koden kort og god. Ikke nogle lange outputs derbare er der.\n",
    "\n",
    "Alle plots skal vises flot. (Labels osv)\n",
    "\n",
    "Alle figuere skal forklares.\n",
    "\n",
    "Der skal refereres. \n",
    "\n",
    "Vær præcis og undgå at bruge objektivt sprog som \"I think og\", \"In my opinion\""
   ]
  },
  {
   "cell_type": "code",
   "execution_count": null,
   "id": "37751d3b",
   "metadata": {},
   "outputs": [],
   "source": []
  }
 ],
 "metadata": {
  "language_info": {
   "name": "python"
  }
 },
 "nbformat": 4,
 "nbformat_minor": 5
}
