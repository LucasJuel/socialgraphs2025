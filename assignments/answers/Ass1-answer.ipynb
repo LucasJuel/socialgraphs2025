{
 "cells": [
  {
   "cell_type": "markdown",
   "id": "f71da121",
   "metadata": {},
   "source": [
    "### HUSK AT KIGGE HER: https://github.com/suneman/socialgraphs2025/wiki/Assignments\n",
    "\n",
    "Denne fortæller at vi skal repeat the questions, når iv svarer på dem.\n",
    "\n",
    "Ikke lav notebooken for lang.\n",
    "\n",
    "Læs spørgsmålene forsigtig, og svar på alle sub-spørgsmål.\n",
    "\n",
    "Split svarene op i forskellige kode sektioner.\n",
    "\n",
    "Hold koden kort og god. Ikke nogle lange outputs derbare er der.\n",
    "\n",
    "Alle plots skal vises flot. (Labels osv)\n",
    "\n",
    "Alle figuere skal forklares.\n",
    "\n",
    "Der skal refereres. \n",
    "\n",
    "Vær præcis og undgå at bruge objektivt sprog som \"I think og\", \"In my opinion\""
   ]
  },
  {
   "cell_type": "markdown",
   "id": "ca31bc98",
   "metadata": {},
   "source": [
    "## Assignment 1.1 - Exploring WS And BA Models.\n",
    "\n",
    "#### What's the problem with random networks as a model for real-world networks according to the argument in section 3.5 (near the end)?\n",
    "\n",
    "The problem using random networks, to model real-world networks stems from the lack of outliers within the generated dataset. The book mentions people like President Rosevelt that had 22.000 acquaintances or Facebook users with the max amount of 5000 friends.\n",
    "\n",
    "All data points wihtin the random network lie in the ranger of ⟨k⟩ &plusmn; $\\sigma_k$ which as per the reasoning above would miss crucial data points that reflect the real world.\n",
    "\n",
    "#### List the four regimes that characterize random networks as a function of ⟨k⟩.\n",
    "\n",
    "\n",
    "\n",
    "\n",
    "#### According to the book, why is it a problem for random networks (in terms of being a model for real-world networks) that the degree-dependent clustering  C(k)decreases as a function of  k in real-world networks?"
   ]
  }
 ],
 "metadata": {
  "language_info": {
   "name": "python"
  }
 },
 "nbformat": 4,
 "nbformat_minor": 5
}
