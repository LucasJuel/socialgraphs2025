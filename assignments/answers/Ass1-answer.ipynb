{
 "cells": [
  {
   "cell_type": "markdown",
   "id": "f71da121",
   "metadata": {},
   "source": [
    "### HUSK AT KIGGE HER: https://github.com/suneman/socialgraphs2025/wiki/Assignments\n",
    "\n",
    "Denne fortæller at vi skal repeat the questions, når iv svarer på dem.\n",
    "\n",
    "Ikke lav notebooken for lang.\n",
    "\n",
    "Læs spørgsmålene forsigtig, og svar på alle sub-spørgsmål.\n",
    "\n",
    "Split svarene op i forskellige kode sektioner.\n",
    "\n",
    "Hold koden kort og god. Ikke nogle lange outputs derbare er der.\n",
    "\n",
    "Alle plots skal vises flot. (Labels osv)\n",
    "\n",
    "Alle figuere skal forklares.\n",
    "\n",
    "Der skal refereres. \n",
    "\n",
    "Vær præcis og undgå at bruge objektivt sprog som \"I think og\", \"In my opinion\""
   ]
  },
  {
   "cell_type": "code",
   "execution_count": 1,
   "id": "1ce4a6b9",
   "metadata": {},
   "outputs": [],
   "source": [
    "#Imports\n",
    "import networkx as nx\n",
    "import matplotlib.pyplot as plt\n",
    "import numpy as np"
   ]
  },
  {
   "cell_type": "markdown",
   "id": "ca31bc98",
   "metadata": {},
   "source": [
    "## Assignment 1.1 - Exploring WS And BA Models\n",
    "\n",
    "#### What's the problem with random networks as a model for real-world networks according to the argument in section 3.5 (near the end)?\n",
    "\n",
    "The problem using random networks, to model real-world networks stems from the lack of outliers within the generated dataset. The book mentions people like President Rosevelt that had 22.000 acquaintances or Facebook users with the max amount of 5000 friends.\n",
    "\n",
    "All data points wihtin the random network lie in the ranger of ⟨k⟩ &plusmn; $\\sigma_k$ which as per the reasoning above would miss crucial data points that reflect the real world.\n",
    "\n",
    "#### List the four regimes that characterize random networks as a function of ⟨k⟩.\n",
    "\n",
    "The four regimes are: \n",
    "\n",
    "* Subcritical - 0 < ⟨k⟩ < 1 \n",
    "* Critical  - ⟨k⟩ = 1\n",
    "* Supercritical - ⟨k⟩ > 1\n",
    "* Connected - ⟨k⟩ = ln(N)\n",
    "\n",
    "\n",
    "#### According to the book, why is it a problem for random networks (in terms of being a model for real-world networks) that the degree-dependent clustering C(k) decreases as a function of k in real-world networks?\n",
    "\n",
    "This is because the random network predictions, predict that the clustering coefficient is non-dependent on the amount of degrees a node has but rather the average degree across the whole network. That means that the random network does not take grouping into account where the coefficient is much higher.\n"
   ]
  },
  {
   "cell_type": "markdown",
   "id": "c3118c75",
   "metadata": {},
   "source": [
    "### Use nx.watts_strogatz_graph to generate 3 graphs with 500 nodes each, average degree = 4, and rewiring probablity  p=0, 0.1, and  1."
   ]
  },
  {
   "cell_type": "code",
   "execution_count": null,
   "id": "2bbfd370",
   "metadata": {},
   "outputs": [],
   "source": [
    "# p = 0\n",
    "AVG_DEG = 4\n",
    "N = 500\n",
    "\n",
    "p0 = nx.watts_strogatz_graph(N, AVG_DEG, 0)\n",
    "p01 = nx.watts_strogatz_graph(N, AVG_DEG, 0.1)\n",
    "p1 = nx.watts_strogatz_graph(N, AVG_DEG, 1)"
   ]
  },
  {
   "cell_type": "markdown",
   "id": "0603c247",
   "metadata": {},
   "source": [
    "#### Calculate the average shortest path length ⟨d⟩ for each one.\n",
    "\n",
    "As nx.watts_strogatz_graph returns a small world graph, we can find the formula average shortest path from the book in Section 3.8 formula 3.19. \n",
    "\n",
    "This formula is presented as: ⟨d⟩ = ln(N)/ln(⟨k⟩) \n",
    "\n",
    "As the only difference between the graphs are the rewiring probability, p, and because the average shortest path is not dependent on p we can find ⟨d⟩ for all 3 graphs."
   ]
  },
  {
   "cell_type": "code",
   "execution_count": 4,
   "id": "f8c1df1c",
   "metadata": {},
   "outputs": [
    {
     "name": "stdout",
     "output_type": "stream",
     "text": [
      "The average shortest path for the 3 graphs: 4.4828921423310435\n"
     ]
    }
   ],
   "source": [
    "d = np.log(N)/np.log(AVG_DEG)\n",
    "print(f'The average shortest path for the 3 graphs: {d}')"
   ]
  }
 ],
 "metadata": {
  "kernelspec": {
   "display_name": "base",
   "language": "python",
   "name": "python3"
  },
  "language_info": {
   "codemirror_mode": {
    "name": "ipython",
    "version": 3
   },
   "file_extension": ".py",
   "mimetype": "text/x-python",
   "name": "python",
   "nbconvert_exporter": "python",
   "pygments_lexer": "ipython3",
   "version": "3.9.13"
  }
 },
 "nbformat": 4,
 "nbformat_minor": 5
}
